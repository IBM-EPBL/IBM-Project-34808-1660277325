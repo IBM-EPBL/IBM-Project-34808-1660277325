{
  "nbformat": 4,
  "nbformat_minor": 0,
  "metadata": {
    "colab": {
      "provenance": []
    },
    "kernelspec": {
      "name": "python3",
      "display_name": "Python 3"
    },
    "language_info": {
      "name": "python"
    }
  },
  "cells": [
    {
      "cell_type": "code",
      "execution_count": 6,
      "metadata": {
        "colab": {
          "base_uri": "https://localhost:8080/"
        },
        "id": "Svt8NfykLob3",
        "outputId": "be37c2d5-62ca-4435-c7a1-db0f1844296a"
      },
      "outputs": [
        {
          "output_type": "stream",
          "name": "stdout",
          "text": [
            "Mounted at /content/drive\n"
          ]
        }
      ],
      "source": [
        "from google.colab import drive\n",
        "drive.mount('/content/drive')"
      ]
    },
    {
      "cell_type": "code",
      "source": [
        "import numpy as np\n",
        "#used for numerical analysis\n",
        "import tensorflow #open source used for both ML and DL for computation\n",
        "from tensorflow.keras.models import Sequential #it is a plain stack of layers\n",
        "from tensorflow.keras import layers # a layer consists of a tensor-in tensor-out computation function\n",
        "#Dense layer is the regular deeply connected neural network layer\n",
        "from tensorflow.keras.layers import Dense, Flatten \n",
        "#Flatten-used fot flattering the input or change the dimension\n",
        "from tensorflow.keras.layers import Conv2D, MaxPooling2D, Dropout #convolutional layer\n",
        "#MaxPooling2D-for downsampling the image\n",
        "from keras.preprocessing.image import ImageDataGenerator"
      ],
      "metadata": {
        "id": "y_WAcJIELu__"
      },
      "execution_count": 7,
      "outputs": []
    },
    {
      "cell_type": "markdown",
      "source": [
        "Image Data Augmentation "
      ],
      "metadata": {
        "id": "o-ee-e441lxq"
      }
    },
    {
      "cell_type": "code",
      "source": [
        "train_datagen = ImageDataGenerator(rescale=1./255,shear_range=0.2,zoom_range=0.2,horizontal_flip=True)\n",
        "test_datagen = ImageDataGenerator(rescale=1./255)"
      ],
      "metadata": {
        "id": "9U70xKMlLxyE"
      },
      "execution_count": 8,
      "outputs": []
    },
    {
      "cell_type": "code",
      "source": [
        "x_train=train_datagen.flow_from_directory(r'/content/drive/MyDrive/IBM/Dataset/TRAIN_SET',target_size=(64,64),batch_size=5,color_mode='rgb',class_mode='sparse')\n",
        "\n",
        "x_test=test_datagen.flow_from_directory(r'/content/drive/MyDrive/IBM/Dataset/TRAIN_SET',target_size=(64,64),batch_size=5,color_mode='rgb',class_mode='sparse')"
      ],
      "metadata": {
        "colab": {
          "base_uri": "https://localhost:8080/"
        },
        "id": "zZfp_NI5L9_1",
        "outputId": "ce8a1b95-89e7-4915-b9db-451f1d8f7532"
      },
      "execution_count": 9,
      "outputs": [
        {
          "output_type": "stream",
          "name": "stdout",
          "text": [
            "Found 4128 images belonging to 5 classes.\n",
            "Found 4128 images belonging to 5 classes.\n"
          ]
        }
      ]
    },
    {
      "cell_type": "code",
      "source": [
        "print(x_train.class_indices)"
      ],
      "metadata": {
        "colab": {
          "base_uri": "https://localhost:8080/"
        },
        "id": "tf4iIpkSMMPk",
        "outputId": "d5732967-be77-41e8-96ee-686a50244af3"
      },
      "execution_count": 10,
      "outputs": [
        {
          "output_type": "stream",
          "name": "stdout",
          "text": [
            "{'APPLES': 0, 'BANANA': 1, 'ORANGE': 2, 'PINEAPPLE': 3, 'WATERMELON': 4}\n"
          ]
        }
      ]
    },
    {
      "cell_type": "code",
      "source": [
        "model = Sequential()"
      ],
      "metadata": {
        "id": "FDElzeHVM4lp"
      },
      "execution_count": 11,
      "outputs": []
    },
    {
      "cell_type": "markdown",
      "source": [
        "###Creating the model"
      ],
      "metadata": {
        "id": "JVPknWAK1yTO"
      }
    },
    {
      "cell_type": "code",
      "source": [
        "#Initializing the CNN\n",
        "classifier = Sequential()"
      ],
      "metadata": {
        "id": "7K-EJelLM6i-"
      },
      "execution_count": 12,
      "outputs": []
    },
    {
      "cell_type": "code",
      "source": [
        "#First convolution layer and pooling\n",
        "classifier.add(Conv2D(32, (3, 3), input_shape=(64,64,3),activation='relu'))"
      ],
      "metadata": {
        "id": "aPvOeMDdM8tP"
      },
      "execution_count": 13,
      "outputs": []
    },
    {
      "cell_type": "code",
      "source": [
        "classifier.add(MaxPooling2D(pool_size=(2,2)))"
      ],
      "metadata": {
        "id": "3I5pmAkPM_CH"
      },
      "execution_count": 14,
      "outputs": []
    },
    {
      "cell_type": "code",
      "source": [
        "#Second convolution Layer and pooling  \n",
        "classifier.add(Conv2D(32, (3,3),activation='relu'))"
      ],
      "metadata": {
        "id": "vHm-xUB-NBf_"
      },
      "execution_count": 16,
      "outputs": []
    },
    {
      "cell_type": "code",
      "source": [
        "#input_shape is going to be the pooled feature maps from the previous convolition layer\n",
        "classifier.add(MaxPooling2D(pool_size=(2,2)))"
      ],
      "metadata": {
        "id": "GoZP77UfNDK2"
      },
      "execution_count": 17,
      "outputs": []
    },
    {
      "cell_type": "code",
      "source": [
        "#Flattening the layers\n",
        "classifier.add(Flatten())"
      ],
      "metadata": {
        "id": "SXCh52YqNFHY"
      },
      "execution_count": 18,
      "outputs": []
    },
    {
      "cell_type": "code",
      "source": [
        "#Adding a fully connected layer\n",
        "classifier.add(Dense(units=128, activation='relu'))\n",
        "classifier.add(Dense(units=5,activation='softmax'))"
      ],
      "metadata": {
        "id": "t5qR5tH5NGqV"
      },
      "execution_count": 19,
      "outputs": []
    },
    {
      "cell_type": "code",
      "source": [
        "classifier.summary()#summary of our model"
      ],
      "metadata": {
        "colab": {
          "base_uri": "https://localhost:8080/"
        },
        "id": "iD9iYmYHNITd",
        "outputId": "941fbebc-033f-4fc8-eb7d-cec2b66aa126"
      },
      "execution_count": 20,
      "outputs": [
        {
          "output_type": "stream",
          "name": "stdout",
          "text": [
            "Model: \"sequential_1\"\n",
            "_________________________________________________________________\n",
            " Layer (type)                Output Shape              Param #   \n",
            "=================================================================\n",
            " conv2d (Conv2D)             (None, 62, 62, 32)        896       \n",
            "                                                                 \n",
            " max_pooling2d (MaxPooling2D  (None, 31, 31, 32)       0         \n",
            " )                                                               \n",
            "                                                                 \n",
            " conv2d_1 (Conv2D)           (None, 29, 29, 32)        9248      \n",
            "                                                                 \n",
            " conv2d_2 (Conv2D)           (None, 27, 27, 32)        9248      \n",
            "                                                                 \n",
            " max_pooling2d_1 (MaxPooling  (None, 13, 13, 32)       0         \n",
            " 2D)                                                             \n",
            "                                                                 \n",
            " flatten (Flatten)           (None, 5408)              0         \n",
            "                                                                 \n",
            " dense (Dense)               (None, 128)               692352    \n",
            "                                                                 \n",
            " dense_1 (Dense)             (None, 5)                 645       \n",
            "                                                                 \n",
            "=================================================================\n",
            "Total params: 712,389\n",
            "Trainable params: 712,389\n",
            "Non-trainable params: 0\n",
            "_________________________________________________________________\n"
          ]
        }
      ]
    },
    {
      "cell_type": "code",
      "source": [
        "#Compiling the CNN\n",
        "#categorical_crossentropy for more than 2\n",
        "classifier.compile(optimizer='adam', loss='sparse_categorical_crossentropy', metrics=['accuracy'])"
      ],
      "metadata": {
        "id": "ch9h3TOXNJxf"
      },
      "execution_count": 21,
      "outputs": []
    },
    {
      "cell_type": "markdown",
      "source": [
        "##Fitting the model"
      ],
      "metadata": {
        "id": "xl2GvlepFOIr"
      }
    },
    {
      "cell_type": "code",
      "source": [
        "model.fit_generator(generator=x_train,\n",
        "                         steps_per_epoch = len(x_train),\n",
        "                         epochs=20,\n",
        "                         validation_data=x_test,\n",
        "                         validation_steps = len(x_test))#no.of images in test set"
      ],
      "metadata": {
        "colab": {
          "base_uri": "https://localhost:8080/"
        },
        "id": "-Bl8cXQ6NNlA",
        "outputId": "2d33d0ff-3f12-4c8f-85ac-08f24694303d"
      },
      "execution_count": 38,
      "outputs": [
        {
          "metadata": {
            "tags": null
          },
          "name": "stderr",
          "output_type": "stream",
          "text": [
            "/usr/local/lib/python3.7/dist-packages/ipykernel_launcher.py:5: UserWarning: `Model.fit_generator` is deprecated and will be removed in a future version. Please use `Model.fit`, which supports generators.\n",
            "  \"\"\"\n"
          ]
        },
        {
          "output_type": "stream",
          "name": "stdout",
          "text": [
            "Epoch 1/20\n",
            "826/826 [==============================] - 1063s 1s/step - loss: 0.6306 - accuracy: 0.2536 - val_loss: 0.5216 - val_accuracy: 0.1761\n",
            "Epoch 2/20\n",
            "826/826 [==============================] - 67s 81ms/step - loss: 0.4367 - accuracy: 0.2386 - val_loss: 0.3931 - val_accuracy: 0.1911\n",
            "Epoch 3/20\n",
            "826/826 [==============================] - 70s 85ms/step - loss: 0.3902 - accuracy: 0.2328 - val_loss: 0.3320 - val_accuracy: 0.2868\n",
            "Epoch 4/20\n",
            "826/826 [==============================] - 65s 79ms/step - loss: 0.3804 - accuracy: 0.2343 - val_loss: 0.2869 - val_accuracy: 0.2393\n",
            "Epoch 5/20\n",
            "826/826 [==============================] - 66s 80ms/step - loss: 0.3530 - accuracy: 0.2418 - val_loss: 0.2985 - val_accuracy: 0.2597\n",
            "Epoch 6/20\n",
            "826/826 [==============================] - 67s 81ms/step - loss: 0.3254 - accuracy: 0.2403 - val_loss: 0.2515 - val_accuracy: 0.2355\n",
            "Epoch 7/20\n",
            "826/826 [==============================] - 66s 80ms/step - loss: 0.3149 - accuracy: 0.2347 - val_loss: 0.2366 - val_accuracy: 0.2396\n",
            "Epoch 8/20\n",
            "826/826 [==============================] - 67s 82ms/step - loss: 0.2902 - accuracy: 0.2396 - val_loss: 0.2417 - val_accuracy: 0.2275\n",
            "Epoch 9/20\n",
            "826/826 [==============================] - 65s 79ms/step - loss: 0.2879 - accuracy: 0.2372 - val_loss: 0.2182 - val_accuracy: 0.2410\n",
            "Epoch 10/20\n",
            "826/826 [==============================] - 67s 81ms/step - loss: 0.2621 - accuracy: 0.2403 - val_loss: 0.2831 - val_accuracy: 0.2570\n",
            "Epoch 11/20\n",
            "826/826 [==============================] - 67s 82ms/step - loss: 0.2506 - accuracy: 0.2389 - val_loss: 0.1723 - val_accuracy: 0.2214\n",
            "Epoch 12/20\n",
            "826/826 [==============================] - 70s 85ms/step - loss: 0.2379 - accuracy: 0.2379 - val_loss: 0.1508 - val_accuracy: 0.2255\n",
            "Epoch 13/20\n",
            "826/826 [==============================] - 70s 85ms/step - loss: 0.2115 - accuracy: 0.2384 - val_loss: 0.1403 - val_accuracy: 0.2299\n",
            "Epoch 14/20\n",
            "826/826 [==============================] - 69s 83ms/step - loss: 0.2132 - accuracy: 0.2369 - val_loss: 0.1477 - val_accuracy: 0.2524\n",
            "Epoch 15/20\n",
            "826/826 [==============================] - 70s 85ms/step - loss: 0.1858 - accuracy: 0.2410 - val_loss: 0.1178 - val_accuracy: 0.2464\n",
            "Epoch 16/20\n",
            "826/826 [==============================] - 70s 85ms/step - loss: 0.1743 - accuracy: 0.2374 - val_loss: 0.1150 - val_accuracy: 0.2488\n",
            "Epoch 17/20\n",
            "826/826 [==============================] - 70s 85ms/step - loss: 0.1686 - accuracy: 0.2376 - val_loss: 0.0846 - val_accuracy: 0.2403\n",
            "Epoch 18/20\n",
            "826/826 [==============================] - 70s 84ms/step - loss: 0.1609 - accuracy: 0.2369 - val_loss: 0.1078 - val_accuracy: 0.2481\n",
            "Epoch 19/20\n",
            "826/826 [==============================] - 71s 86ms/step - loss: 0.1457 - accuracy: 0.2398 - val_loss: 0.1233 - val_accuracy: 0.2641\n",
            "Epoch 20/20\n",
            "826/826 [==============================] - 69s 84ms/step - loss: 0.1446 - accuracy: 0.2410 - val_loss: 0.1137 - val_accuracy: 0.2498\n"
          ]
        },
        {
          "output_type": "execute_result",
          "data": {
            "text/plain": [
              "<keras.callbacks.History at 0x7fea5ebd1b90>"
            ]
          },
          "metadata": {},
          "execution_count": 38
        }
      ]
    },
    {
      "cell_type": "markdown",
      "source": [
        "###Saving the model"
      ],
      "metadata": {
        "id": "y8ZX1ixzGB54"
      }
    },
    {
      "cell_type": "code",
      "source": [
        " #Saving the model\n",
        "classifier.save('nutrition.h5')"
      ],
      "metadata": {
        "id": "9gdnHvvqNPv1"
      },
      "execution_count": 29,
      "outputs": []
    },
    {
      "cell_type": "markdown",
      "source": [
        "###Predicting our resuts"
      ],
      "metadata": {
        "id": "-bVL__MLGOaE"
      }
    },
    {
      "cell_type": "code",
      "source": [
        "from tensorflow.keras.models import load_model"
      ],
      "metadata": {
        "id": "gJlPezhLNRhr"
      },
      "execution_count": 33,
      "outputs": []
    },
    {
      "cell_type": "code",
      "source": [
        "from keras.preprocessing import image\n",
        "from tensorflow.keras.preprocessing import image \n",
        "model = load_model(\"nutrition.h5\")"
      ],
      "metadata": {
        "id": "fRyKXWB6NTNA"
      },
      "execution_count": 34,
      "outputs": []
    },
    {
      "cell_type": "code",
      "source": [
        "img = image.load_img(r'/content/drive/MyDrive/IBM/Dataset/TEST_SET/APPLES/n07740461_10011.jpg',grayscale=False,target_size= (64,64))#Loading the image\n",
        "img"
      ],
      "metadata": {
        "colab": {
          "base_uri": "https://localhost:8080/",
          "height": 81
        },
        "id": "38Uop7d9NVo3",
        "outputId": "91ef6107-4b33-4ee8-91df-678677e98a66"
      },
      "execution_count": 35,
      "outputs": [
        {
          "output_type": "execute_result",
          "data": {
            "text/plain": [
              "<PIL.Image.Image image mode=RGB size=64x64 at 0x7FEA5ED6A4D0>"
            ],
            "image/png": "[encoded data removed]"
          },
          "metadata": {},
          "execution_count": 35
        }
      ]
    },
    {
      "cell_type": "code",
      "source": [
        "x = image.img_to_array(img)#image to array\n",
        "x = np.expand_dims(x,axis = 0)#changing the shape\n",
        "pred = np.argmax(model.predict(x)) #predicting the classes\n",
        "pred"
      ],
      "metadata": {
        "colab": {
          "base_uri": "https://localhost:8080/"
        },
        "id": "Y_UQXyW-NhRK",
        "outputId": "bfba0cc5-0327-4d9b-8f4a-611e1cefde53"
      },
      "execution_count": 36,
      "outputs": [
        {
          "output_type": "stream",
          "name": "stdout",
          "text": [
            "1/1 [==============================] - 0s 419ms/step\n"
          ]
        },
        {
          "output_type": "execute_result",
          "data": {
            "text/plain": [
              "1"
            ]
          },
          "metadata": {},
          "execution_count": 36
        }
      ]
    },
    {
      "cell_type": "code",
      "source": [
        "x = image.img_to_array(img)\n",
        "x = np.expand_dims(x,axis = 0)\n",
        "pred = np.argmax(model.predict(x)) \n",
        "pred"
      ],
      "metadata": {
        "colab": {
          "base_uri": "https://localhost:8080/"
        },
        "id": "zaM7FeEuNtAe",
        "outputId": "d7886240-a859-4542-de6c-484c6d38deee"
      },
      "execution_count": 37,
      "outputs": [
        {
          "output_type": "stream",
          "name": "stdout",
          "text": [
            "1/1 [==============================] - 0s 20ms/step\n"
          ]
        },
        {
          "output_type": "execute_result",
          "data": {
            "text/plain": [
              "1"
            ]
          },
          "metadata": {},
          "execution_count": 37
        }
      ]
    },
    {
      "cell_type": "code",
      "source": [],
      "metadata": {
        "id": "x70AxIkgNugO"
      },
      "execution_count": 37,
      "outputs": []
    }
  ]
}