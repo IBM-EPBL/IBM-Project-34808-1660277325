{
 "cells": [
  {
   "cell_type": "code",
   "execution_count": 12,
   "id": "1f3da145",
   "metadata": {
    "scrolled": true
   },
   "outputs": [],
   "source": [
    "#Image preprocessing\n",
    "from keras.preprocessing.image import ImageDataGenerator \n",
    "#setting parameter for image data argumentation to the training data\n",
    "train_datagen = ImageDataGenerator(rescale = 1./255, shear_range= 0.2,zoom_range= 0.2, horizontal_flip = True) \n",
    "#Image data argumentation to the testing data\n",
    "test_datagen =ImageDataGenerator(rescale=1)"
   ]
  },
  {
   "cell_type": "code",
   "execution_count": 13,
   "id": "31444669",
   "metadata": {
    "scrolled": false
   },
   "outputs": [
    {
     "name": "stdout",
     "output_type": "stream",
     "text": [
      "Found 4118 images belonging to 5 classes.\n",
      "Found 929 images belonging to 5 classes.\n"
     ]
    }
   ],
   "source": [
    "###Loading our data and performing data agumentation\n",
    "#performing data agumentation to train data\n",
    "x_train = train_datagen.flow_from_directory(r'C:\\Users\\vishnu\\Downloads\\IBM\\Dataset\\TRAIN_SET',target_size = (64,64), batch_size = 32, class_mode ='categorical')\n",
    "#performing data agumentation to test data\n",
    "x_test = test_datagen.flow_from_directory(r'C:\\Users\\vishnu\\Downloads\\IBM\\Dataset\\TEST_SET',target_size = (64,64), batch_size = 32, class_mode ='categorical')"
   ]
  },
  {
   "cell_type": "markdown",
   "id": "dd465bd2",
   "metadata": {},
   "source": []
  },
  {
   "cell_type": "code",
   "execution_count": 14,
   "id": "5d5ed71b",
   "metadata": {},
   "outputs": [
    {
     "name": "stdout",
     "output_type": "stream",
     "text": [
      "{'APPLES': 0, 'BANANA': 1, 'ORANGE': 2, 'PINEAPPLE': 3, 'WATERMELON': 4}\n"
     ]
    }
   ],
   "source": [
    "print(x_train.class_indices)#checking the number of classes"
   ]
  },
  {
   "cell_type": "code",
   "execution_count": 8,
   "id": "d3bfb1b2",
   "metadata": {},
   "outputs": [
    {
     "data": {
      "text/plain": [
       "Counter({0: 995, 1: 1354, 2: 1019, 3: 275, 4: 475})"
      ]
     },
     "execution_count": 8,
     "metadata": {},
     "output_type": "execute_result"
    }
   ],
   "source": [
    "from collections import Counter as c\n",
    "c(x_train.labels)"
   ]
  },
  {
   "cell_type": "code",
   "execution_count": null,
   "id": "98334b19",
   "metadata": {},
   "outputs": [],
   "source": []
  }
 ],
 "metadata": {
  "kernelspec": {
   "display_name": "Python 3 (ipykernel)",
   "language": "python",
   "name": "python3"
  },
  "language_info": {
   "codemirror_mode": {
    "name": "ipython",
    "version": 3
   },
   "file_extension": ".py",
   "mimetype": "text/x-python",
   "name": "python",
   "nbconvert_exporter": "python",
   "pygments_lexer": "ipython3",
   "version": "3.9.12"
  },
  "vscode": {
   "interpreter": {
    "hash": "c495985e19c015fca8fc6ed18b7b153a5a2c9cf3213ab04188f1eb8b848e7431"
   }
  }
 },
 "nbformat": 4,
 "nbformat_minor": 5
}
